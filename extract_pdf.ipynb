{
 "cells": [
  {
   "cell_type": "code",
   "execution_count": 1,
   "metadata": {},
   "outputs": [],
   "source": [
    "import sys\n",
    "import re\n",
    "import pandas as pd\n",
    "import json\n",
    "import os\n",
    "import dotenv\n",
    "\n",
    "from pathlib import Path\n",
    "from langchain_community.document_loaders import PyMuPDFLoader\n",
    "from langchain.text_splitter import CharacterTextSplitter\n",
    "from langchain.schema import Document"
   ]
  },
  {
   "cell_type": "code",
   "execution_count": 5,
   "metadata": {},
   "outputs": [],
   "source": [
    "# All functions\n",
    "def split_and_clean_documents(docs, page=0, chunk_size=1024, chunk_overlap=0):\n",
    "    text_splitter = CharacterTextSplitter(separator=\"\\n\\n\", chunk_size=chunk_size, chunk_overlap=chunk_overlap)\n",
    "    texts = text_splitter.split_documents(docs)\n",
    "    \n",
    "    table = []\n",
    "\n",
    "    for i in range(len(texts)):\n",
    "        cleaned_content = re.sub(r'[\\u202a-\\u202e]', '', texts[i].page_content)\n",
    "        cleaned_content = re.sub(r'^\\s*(?!\\d+\\.\\d+\\.\\d+)[๐-๙0-9]+[\\s.-]*', '', cleaned_content)\n",
    "        cleaned_content = re.sub(r'^\\s*-\\s*\\d+\\s*-\\s*', '', cleaned_content)\n",
    "        cleaned_content = cleaned_content.strip()\n",
    "        #texts[i] = Document(metadata=texts[i].metadata, page_content=cleaned_content)\n",
    "\n",
    "        source = texts[i].metadata.get(\"source\")\n",
    "        source = re.sub(r'^.*?\\\\', '', source)\n",
    "        page = texts[i].metadata.get(\"page\")\n",
    "        total = texts[i].metadata.get(\"total_pages\")\n",
    "        table.append({\n",
    "            \"Source\":source,\n",
    "            \"Content\":cleaned_content,\n",
    "            \"Page\":page+1,\n",
    "            \"Total_pages\":total,\n",
    "        })\n",
    "    \n",
    "    return pd.DataFrame(table)"
   ]
  },
  {
   "cell_type": "code",
   "execution_count": 2,
   "metadata": {},
   "outputs": [],
   "source": [
    "# Load docs\n",
    "doc_paths = [\n",
    "    #\"./data\\Final_หลักสูตรวท.บ. (วิทยาศาสตร์และนวัตกรรมข้อมูล) (พหุ) (ปป. 66) (2).pdf\",\n",
    "    \"./data\\วิทยาการคอมพิวเตอร์ หลักสูตร 2566-V4.pdf\"\n",
    "]\n",
    "\n",
    "docs = []\n",
    "for doc_file in doc_paths:\n",
    "    file_path = Path(doc_file)\n",
    "    file_name = os.path.splitext(os.path.basename(file_path))[0]\n",
    "    try:\n",
    "        if str(file_path).endswith(\".pdf\"):\n",
    "            loader = PyMuPDFLoader(file_path=file_path)\n",
    "            data = loader.load_and_split()\n",
    "        else:\n",
    "            print('Upload a file successful')\n",
    "            sys.exit()\n",
    "\n",
    "        docs.extend(data)\n",
    "\n",
    "    except Exception as e:\n",
    "        print(f\"Error loading document {file_name}: {e}\")"
   ]
  },
  {
   "cell_type": "code",
   "execution_count": 3,
   "metadata": {},
   "outputs": [
    {
     "data": {
      "text/plain": [
       "182"
      ]
     },
     "execution_count": 3,
     "metadata": {},
     "output_type": "execute_result"
    }
   ],
   "source": [
    "len(docs)"
   ]
  },
  {
   "cell_type": "code",
   "execution_count": 6,
   "metadata": {},
   "outputs": [],
   "source": [
    "df = split_and_clean_documents(docs=docs)"
   ]
  },
  {
   "cell_type": "code",
   "execution_count": 7,
   "metadata": {},
   "outputs": [
    {
     "data": {
      "text/html": [
       "<div>\n",
       "<style scoped>\n",
       "    .dataframe tbody tr th:only-of-type {\n",
       "        vertical-align: middle;\n",
       "    }\n",
       "\n",
       "    .dataframe tbody tr th {\n",
       "        vertical-align: top;\n",
       "    }\n",
       "\n",
       "    .dataframe thead th {\n",
       "        text-align: right;\n",
       "    }\n",
       "</style>\n",
       "<table border=\"1\" class=\"dataframe\">\n",
       "  <thead>\n",
       "    <tr style=\"text-align: right;\">\n",
       "      <th></th>\n",
       "      <th>Source</th>\n",
       "      <th>Content</th>\n",
       "      <th>Page</th>\n",
       "      <th>Total_pages</th>\n",
       "    </tr>\n",
       "  </thead>\n",
       "  <tbody>\n",
       "    <tr>\n",
       "      <th>0</th>\n",
       "      <td>วิทยาการคอมพิวเตอร์ หลักสูตร 2566-V4.pdf</td>\n",
       "      <td>หลักสูตรวิทยาศาสตรบัณฑิต \\nสาขาวิชาวิทยาการคอม...</td>\n",
       "      <td>1</td>\n",
       "      <td>205</td>\n",
       "    </tr>\n",
       "    <tr>\n",
       "      <th>1</th>\n",
       "      <td>วิทยาการคอมพิวเตอร์ หลักสูตร 2566-V4.pdf</td>\n",
       "      <td>รายละเอียดของหลักสูตร \\nหลักสูตรวิทยาศาสตรบัณฑ...</td>\n",
       "      <td>2</td>\n",
       "      <td>205</td>\n",
       "    </tr>\n",
       "    <tr>\n",
       "      <th>2</th>\n",
       "      <td>วิทยาการคอมพิวเตอร์ หลักสูตร 2566-V4.pdf</td>\n",
       "      <td>1.4.2 ประเภทของหลักสูตร \\n \\n  R \\nหลักสูตรปริ...</td>\n",
       "      <td>3</td>\n",
       "      <td>205</td>\n",
       "    </tr>\n",
       "    <tr>\n",
       "      <th>3</th>\n",
       "      <td>วิทยาการคอมพิวเตอร์ หลักสูตร 2566-V4.pdf</td>\n",
       "      <td>1.5 อาชีพที่สามารถประกอบไดหลังสำเร็จการศึกษา ...</td>\n",
       "      <td>4</td>\n",
       "      <td>205</td>\n",
       "    </tr>\n",
       "    <tr>\n",
       "      <th>4</th>\n",
       "      <td>วิทยาการคอมพิวเตอร์ หลักสูตร 2566-V4.pdf</td>\n",
       "      <td>หมวดที่ 2  คุณสมบัติผูเข้าศึกษา \\n2.1 การรับเ...</td>\n",
       "      <td>5</td>\n",
       "      <td>205</td>\n",
       "    </tr>\n",
       "    <tr>\n",
       "      <th>...</th>\n",
       "      <td>...</td>\n",
       "      <td>...</td>\n",
       "      <td>...</td>\n",
       "      <td>...</td>\n",
       "    </tr>\n",
       "    <tr>\n",
       "      <th>177</th>\n",
       "      <td>วิทยาการคอมพิวเตอร์ หลักสูตร 2566-V4.pdf</td>\n",
       "      <td>ข้อ ๕6 ให้นับรวมเวลาในระหว่างที่ถูกลงโทษให้พัก...</td>\n",
       "      <td>179</td>\n",
       "      <td>205</td>\n",
       "    </tr>\n",
       "    <tr>\n",
       "      <th>178</th>\n",
       "      <td>วิทยาการคอมพิวเตอร์ หลักสูตร 2566-V4.pdf</td>\n",
       "      <td>ตามหลักเกณฑ์การวัดผลของหลักสูตรที่จะย้ายเข้า เ...</td>\n",
       "      <td>180</td>\n",
       "      <td>205</td>\n",
       "    </tr>\n",
       "    <tr>\n",
       "      <th>179</th>\n",
       "      <td>วิทยาการคอมพิวเตอร์ หลักสูตร 2566-V4.pdf</td>\n",
       "      <td>หมวด ๑๖ \\nการได้รับปริญญาเกียรตินิยม \\n-------...</td>\n",
       "      <td>181</td>\n",
       "      <td>205</td>\n",
       "    </tr>\n",
       "    <tr>\n",
       "      <th>180</th>\n",
       "      <td>วิทยาการคอมพิวเตอร์ หลักสูตร 2566-V4.pdf</td>\n",
       "      <td>หมวด ๑๗ \\nการเสนอชื่อและการอนุมัติอนุปริญญาหรื...</td>\n",
       "      <td>182</td>\n",
       "      <td>205</td>\n",
       "    </tr>\n",
       "    <tr>\n",
       "      <th>181</th>\n",
       "      <td>วิทยาการคอมพิวเตอร์ หลักสูตร 2566-V4.pdf</td>\n",
       "      <td>(๕) นักศึกษาที่ถูกลงโทษทางวินัยนักศึกษาให้พักก...</td>\n",
       "      <td>183</td>\n",
       "      <td>205</td>\n",
       "    </tr>\n",
       "  </tbody>\n",
       "</table>\n",
       "<p>182 rows × 4 columns</p>\n",
       "</div>"
      ],
      "text/plain": [
       "                                       Source  \\\n",
       "0    วิทยาการคอมพิวเตอร์ หลักสูตร 2566-V4.pdf   \n",
       "1    วิทยาการคอมพิวเตอร์ หลักสูตร 2566-V4.pdf   \n",
       "2    วิทยาการคอมพิวเตอร์ หลักสูตร 2566-V4.pdf   \n",
       "3    วิทยาการคอมพิวเตอร์ หลักสูตร 2566-V4.pdf   \n",
       "4    วิทยาการคอมพิวเตอร์ หลักสูตร 2566-V4.pdf   \n",
       "..                                        ...   \n",
       "177  วิทยาการคอมพิวเตอร์ หลักสูตร 2566-V4.pdf   \n",
       "178  วิทยาการคอมพิวเตอร์ หลักสูตร 2566-V4.pdf   \n",
       "179  วิทยาการคอมพิวเตอร์ หลักสูตร 2566-V4.pdf   \n",
       "180  วิทยาการคอมพิวเตอร์ หลักสูตร 2566-V4.pdf   \n",
       "181  วิทยาการคอมพิวเตอร์ หลักสูตร 2566-V4.pdf   \n",
       "\n",
       "                                               Content  Page  Total_pages  \n",
       "0    หลักสูตรวิทยาศาสตรบัณฑิต \\nสาขาวิชาวิทยาการคอม...     1          205  \n",
       "1    รายละเอียดของหลักสูตร \\nหลักสูตรวิทยาศาสตรบัณฑ...     2          205  \n",
       "2    1.4.2 ประเภทของหลักสูตร \\n \\n  R \\nหลักสูตรปริ...     3          205  \n",
       "3    1.5 อาชีพที่สามารถประกอบไดหลังสำเร็จการศึกษา ...     4          205  \n",
       "4    หมวดที่ 2  คุณสมบัติผูเข้าศึกษา \\n2.1 การรับเ...     5          205  \n",
       "..                                                 ...   ...          ...  \n",
       "177  ข้อ ๕6 ให้นับรวมเวลาในระหว่างที่ถูกลงโทษให้พัก...   179          205  \n",
       "178  ตามหลักเกณฑ์การวัดผลของหลักสูตรที่จะย้ายเข้า เ...   180          205  \n",
       "179  หมวด ๑๖ \\nการได้รับปริญญาเกียรตินิยม \\n-------...   181          205  \n",
       "180  หมวด ๑๗ \\nการเสนอชื่อและการอนุมัติอนุปริญญาหรื...   182          205  \n",
       "181  (๕) นักศึกษาที่ถูกลงโทษทางวินัยนักศึกษาให้พักก...   183          205  \n",
       "\n",
       "[182 rows x 4 columns]"
      ]
     },
     "execution_count": 7,
     "metadata": {},
     "output_type": "execute_result"
    }
   ],
   "source": [
    "df"
   ]
  },
  {
   "cell_type": "code",
   "execution_count": 8,
   "metadata": {},
   "outputs": [],
   "source": [
    "df.to_csv(\"SampleData_ComSci.csv\", index=False ,encoding='utf-8-sig')"
   ]
  },
  {
   "cell_type": "code",
   "execution_count": 113,
   "metadata": {},
   "outputs": [
    {
     "name": "stdout",
     "output_type": "stream",
     "text": [
      "page_content='“ภาคการศึกษา” หมายความว่า ภาคการศึกษาในระบบทวิภาค หรือในระบบไตรภาค \n",
      "แต่ไม่รวมภาคฤดูร้อน \n",
      "“สถาบันอุดมศึกษาอื่น” หมายความว่า มหาวิทยาลัยหรือสถาบันอุดมศึกษาอื่นที่ได้รับ\n",
      "การจัดตั้งตามกฎหมายของไทยหรือเป็นมหาวิทยาลัยหรือสถาบันอุดมศึกษาของต่างประเทศ  \n",
      "“ข้อกําหนดหลักสูตร” หมายความว่า ข้อกําหนดที่ว่าด้วยหลักเกณฑ์และเงื่อนไข \n",
      "ในการศึกษาของหลักสูตรตามที่ได้รับอนุมัติจากสภามหาวิทยาลัย \n",
      "“นายทะเบียน” หมายความว่า ผู้อํานวยการสํานักงานทะเบียนนักศึกษา \n",
      "ข้อ ๕ ให้อธิการบดีเป็นผู้รักษาการตามข้อบังคับนี้ และให้มีอํานาจออกประกาศของ\n",
      "มหาวิทยาลัยเพื่อปฏิบัติตามข้อบังคับนี้ได้  \n",
      "หมวด ๑ \n",
      "ระบบการจัดการศึกษา และอาจารย์ที่ปรึกษา \n",
      "------------------------- \n",
      "ข้อ ๖ มหาวิทยาลัยจัดการศึกษาด้วยหลักการประสานงานด้านวิชาการระหว่างคณะ คณะใด\n",
      "มีหน้าที่จัดการศึกษาในวิชาการด้านใดให้จัดการศึกษาในวิชาการด้านนั้นแก่นักศึกษาของมหาวิทยาลัย\n",
      "ทุกคณะ เว้นแต่กรณีที่มีเหตุผลอันสมควรและได้รับความเห็นชอบจากสภามหาวิทยาลัย \n",
      "ข้อ ๗ การจัดการศึกษาของมหาวิทยาลัยมี 2 ระบบ ดังนี้   \n",
      "(๑) ระบบทวิภาคเป็นการจัดการศึกษาที่หนึ่งปีการศึกษามีสองภาคการศึกษาคือ  \n",
      "ภาคการศึกษาที่ ๑ และภาคการศึกษาที่ ๒ และอาจมีภาคฤดูร้อนต่อจากภาคการศึกษาที่ ๒ ด้วยก็ได้ \n",
      "(๒) ระบบไตรภาคเป็นการจัดการศึกษาที่หนึ่งปีการศึกษามีสามภาคการศึกษาคือ  \n",
      "ภาคการศึกษาที่ ๑ ภาคการศึกษาที่ ๒ และภาคการศึกษาที่ ๓ \n",
      "การจัดการศึกษาตามวรรคหนึ่งอาจออกแบบวิธีการเรียนการสอนโดยแบ่งช่วง\n",
      "การศึกษาตามหัวข้อการศึกษาที่มีปริมาณการเรียนรู้เทียบเท่าระบบทวิภาคหรือระบบไตรภาคแล้วแต่\n",
      "กรณี  \n",
      "หลักสูตรการศึกษาใดจะจัดการศึกษาในระบบตามวรรคหนึ่งให้เป็นอํานาจของ \n",
      "สภามหาวิทยาลัยเป็นผู้พิจารณาอนุมัติ \n",
      "ข้อ ๘ ระบบทวิภาคในภาคการศึกษาให้มีระยะเวลาไม่น้อยกว่าสิบห้าสัปดาห์ และใน \n",
      "ภาคฤดูร้อนให้มีระยะเวลาไม่น้อยกว่าหกสัปดาห์ แต่ให้เพิ่มชั่วโมงการศึกษาในแต่ละรายวิชาให้เท่ากับ\n",
      "ภาคการศึกษา \n",
      "ระบบไตรภาคในภาคการศึกษาให้มีระยะเวลาไม่น้อยกว่าสิบสองสัปดาห์และไม่เกิน  \n",
      "14 สัปดาห์' metadata={'producer': 'Microsoft® Word for Microsoft 365', 'creator': 'Microsoft® Word for Microsoft 365', 'creationdate': '2023-08-15T10:34:28+07:00', 'source': 'data\\\\Final_หลักสูตรวท.บ. (วิทยาศาสตร์และนวัตกรรมข้อมูล) (พหุ) (ปป. 66) (2).pdf', 'file_path': 'data\\\\Final_หลักสูตรวท.บ. (วิทยาศาสตร์และนวัตกรรมข้อมูล) (พหุ) (ปป. 66) (2).pdf', 'total_pages': 140, 'format': 'PDF 1.7', 'title': '', 'author': 'Dr.Rachada Kongkachandra', 'subject': '', 'keywords': '', 'moddate': '2023-08-15T10:35:08+07:00', 'trapped': '', 'modDate': \"D:20230815103508+07'00'\", 'creationDate': \"D:20230815103428+07'00'\", 'page': 99}\n"
     ]
    }
   ],
   "source": [
    "for i in range(len(texts)):\n",
    "    cleaned_content = re.sub(r'[\\u202a-\\u202e]', '', texts[i].page_content)\n",
    "    cleaned_content = re.sub(r'^\\s*(?!\\d+\\.\\d+\\.\\d+)[๐-๙0-9]+[\\s.-]*', '', cleaned_content)\n",
    "    cleaned_content = re.sub(r'^\\s*-\\s*\\d+\\s*-\\s*', '', cleaned_content)\n",
    "    cleaned_content = cleaned_content.strip()\n",
    "    texts[i] = Document(metadata=texts[i].metadata, page_content=cleaned_content)\n",
    "\n",
    "print(texts[80])"
   ]
  },
  {
   "cell_type": "code",
   "execution_count": 55,
   "metadata": {},
   "outputs": [
    {
     "name": "stdout",
     "output_type": "stream",
     "text": [
      "Final_หลักสูตรวท.บ. (วิทยาศาสตร์และนวัตกรรมข้อมูล) (พหุ) (ปป. 66) (2).pdf\n"
     ]
    }
   ],
   "source": [
    "source = texts[10].metadata.get(\"source\")\n",
    "source = re.sub(r'^.*?\\\\', '', source)\n",
    "print(source)"
   ]
  },
  {
   "cell_type": "code",
   "execution_count": 62,
   "metadata": {},
   "outputs": [
    {
     "name": "stdout",
     "output_type": "stream",
     "text": [
      "140\n"
     ]
    }
   ],
   "source": [
    "content = texts[0].metadata.get(\"total_pages\")\n",
    "print(content)"
   ]
  }
 ],
 "metadata": {
  "kernelspec": {
   "display_name": "venv",
   "language": "python",
   "name": "python3"
  },
  "language_info": {
   "codemirror_mode": {
    "name": "ipython",
    "version": 3
   },
   "file_extension": ".py",
   "mimetype": "text/x-python",
   "name": "python",
   "nbconvert_exporter": "python",
   "pygments_lexer": "ipython3",
   "version": "3.11.9"
  }
 },
 "nbformat": 4,
 "nbformat_minor": 2
}
